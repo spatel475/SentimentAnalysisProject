{
 "cells": [
  {
   "cell_type": "code",
   "execution_count": 1,
   "metadata": {},
   "outputs": [],
   "source": [
    "import pickle\n",
    "from flask import Flask, json, jsonify, make_response, request\n",
    "from flask_cors import CORS"
   ]
  },
  {
   "cell_type": "code",
   "execution_count": 2,
   "metadata": {},
   "outputs": [],
   "source": [
    "file = open('vectorizer.pickle', 'rb')\n",
    "vectorizer = pickle.load(file)\n",
    "file.close() \n",
    "\n",
    "file = open('lr.pickle', 'rb')\n",
    "model_lr = pickle.load(file)\n",
    "file.close()\n",
    "\n",
    "file = open('nb.pickle', 'rb')\n",
    "model_nb = pickle.load(file)\n",
    "file.close()\n",
    "\n",
    "file = open('svm.pickle', 'rb')\n",
    "model_svm = pickle.load(file)\n",
    "file.close()\n",
    "\n",
    "def get_result(model, text_vector, text):\n",
    "    if(model == 'lr'):\n",
    "        return logistic_regression(text_vector, text)\n",
    "    if(model == 'nb'):\n",
    "        return naive_bayes(text_vector, text)\n",
    "    if(model == 'svm'):\n",
    "        return svm(text_vector, text)\n",
    "    \n",
    "    return jsonify({'error':'sorry! unable to load model', 'status_code':500})\n",
    "\n",
    "def logistic_regression(text_vector, text):\n",
    "    result = model_lr.predict(text_vector)\n",
    "    return json.dumps({'sentiment': int(result[0]), 'text': text, 'model':'Logistic Regression'})\n",
    "\n",
    "def naive_bayes(text_vector, text):\n",
    "    result = model_nb.predict(text_vector)\n",
    "    return json.dumps({'sentiment': int(result[0]), 'text': text, 'model':'Naive Bayes'})\n",
    "\n",
    "def svm(text_vector, text):\n",
    "    result = model_svm.predict(text_vector)\n",
    "    return json.dumps({'sentiment': int(result[0]), 'text': text, 'model':'Support Vector Machine'})"
   ]
  },
  {
   "cell_type": "code",
   "execution_count": 3,
   "metadata": {},
   "outputs": [
    {
     "name": "stdout",
     "output_type": "stream",
     "text": [
      " * Serving Flask app '__main__' (lazy loading)\n",
      " * Environment: production\n",
      "   WARNING: This is a development server. Do not use it in a production deployment.\n",
      "   Use a production WSGI server instead.\n",
      " * Debug mode: off\n"
     ]
    },
    {
     "name": "stderr",
     "output_type": "stream",
     "text": [
      " * Running on http://127.0.0.1:5000/ (Press CTRL+C to quit)\n",
      "127.0.0.1 - - [07/Apr/2022 18:54:14] \"GET / HTTP/1.1\" 404 -\n",
      "127.0.0.1 - - [07/Apr/2022 18:54:18] \"GET /sentiment?model=lr&text=stupid%20nerd HTTP/1.1\" 200 -\n"
     ]
    }
   ],
   "source": [
    "app = Flask(__name__)\n",
    "app.config['JSON_AS_ASCII'] = False\n",
    "CORS(app)\n",
    "\n",
    "@app.route('/sentiment', methods=['GET'])\n",
    "def sentiment_analysis():\n",
    "    if request.method == 'GET':\n",
    "        text = request.args.get('text')\n",
    "        model = request.args.get('model')\n",
    "\n",
    "        if text:\n",
    "            text_vector = vectorizer.transform([text])\n",
    "            result = get_result(model, text_vector, text)\n",
    "            return make_response(result, 200)\n",
    "            \n",
    "        return make_response(jsonify({'error':'sorry! unable to parse', 'status_code':500}), 500)\n",
    "\n",
    "if __name__ == '__main__':\n",
    "   app.run()"
   ]
  }
 ],
 "metadata": {
  "kernelspec": {
   "display_name": "Python 3",
   "language": "python",
   "name": "python3"
  },
  "language_info": {
   "codemirror_mode": {
    "name": "ipython",
    "version": 3
   },
   "file_extension": ".py",
   "mimetype": "text/x-python",
   "name": "python",
   "nbconvert_exporter": "python",
   "pygments_lexer": "ipython3",
   "version": "3.8.3"
  }
 },
 "nbformat": 4,
 "nbformat_minor": 4
}
